{
 "cells": [
  {
   "cell_type": "markdown",
   "id": "526c5b1b",
   "metadata": {},
   "source": [
    "### Importing Required libraries"
   ]
  },
  {
   "cell_type": "code",
   "execution_count": 1,
   "id": "be8ea1e3",
   "metadata": {},
   "outputs": [],
   "source": [
    "import pandas as pd\n",
    "import numpy as np\n",
    "import os\n",
    "import matplotlib.pyplot as plt\n",
    "import seaborn as sns\n",
    "import pickle\n",
    "from sklearn.model_selection import train_test_split\n",
    "from sklearn.preprocessing import MultiLabelBinarizer\n",
    "from sklearn.metrics import f1_score\n",
    "from gensim.models import Word2Vec\n",
    "from sklearn.multioutput import MultiOutputClassifier\n",
    "from sklearn.ensemble import RandomForestClassifier"
   ]
  },
  {
   "cell_type": "markdown",
   "id": "9151391f",
   "metadata": {},
   "source": [
    "### Reading the dataset"
   ]
  },
  {
   "cell_type": "code",
   "execution_count": 2,
   "id": "7e3375e4",
   "metadata": {},
   "outputs": [],
   "source": [
    "data=pd.read_csv(\"Political_Speeches\")"
   ]
  },
  {
   "cell_type": "code",
   "execution_count": 3,
   "id": "6605f4a2",
   "metadata": {},
   "outputs": [
    {
     "data": {
      "text/html": [
       "<div>\n",
       "<style scoped>\n",
       "    .dataframe tbody tr th:only-of-type {\n",
       "        vertical-align: middle;\n",
       "    }\n",
       "\n",
       "    .dataframe tbody tr th {\n",
       "        vertical-align: top;\n",
       "    }\n",
       "\n",
       "    .dataframe thead th {\n",
       "        text-align: right;\n",
       "    }\n",
       "</style>\n",
       "<table border=\"1\" class=\"dataframe\">\n",
       "  <thead>\n",
       "    <tr style=\"text-align: right;\">\n",
       "      <th></th>\n",
       "      <th>Country</th>\n",
       "      <th>Date</th>\n",
       "      <th>Speaker</th>\n",
       "      <th>Headline</th>\n",
       "      <th>Text_of_Speech</th>\n",
       "      <th>Designation</th>\n",
       "      <th>Running President/PM</th>\n",
       "      <th>Speech Link</th>\n",
       "      <th>Emotion</th>\n",
       "      <th>Context</th>\n",
       "    </tr>\n",
       "  </thead>\n",
       "  <tbody>\n",
       "    <tr>\n",
       "      <th>0</th>\n",
       "      <td>Russia</td>\n",
       "      <td>16/07/2021</td>\n",
       "      <td>Vladimir Putin</td>\n",
       "      <td>Meeting of APEC Economic Leaders</td>\n",
       "      <td>Madam Chair,\\n\\nColleagues,\\n\\nFirst of all, ...</td>\n",
       "      <td>President</td>\n",
       "      <td>Vladimir Putin</td>\n",
       "      <td>http://en.kremlin.ru/events/president/transcri...</td>\n",
       "      <td>OPTIMISM</td>\n",
       "      <td>DEVELOPMENT</td>\n",
       "    </tr>\n",
       "    <tr>\n",
       "      <th>1</th>\n",
       "      <td>Russia</td>\n",
       "      <td>2021-09-05 00:00:00</td>\n",
       "      <td>Vladimir Putin</td>\n",
       "      <td>Victory Parade on Red Square</td>\n",
       "      <td>Citizens of Russia,\\n\\nDear veterans,\\n\\nComra...</td>\n",
       "      <td>President</td>\n",
       "      <td>Vladimir Putin</td>\n",
       "      <td>http://en.kremlin.ru/events/president/transcri...</td>\n",
       "      <td>JOY</td>\n",
       "      <td>NATIONALISM</td>\n",
       "    </tr>\n",
       "    <tr>\n",
       "      <th>2</th>\n",
       "      <td>Russia</td>\n",
       "      <td>2021-08-04 00:00:00</td>\n",
       "      <td>Vladimir Putin</td>\n",
       "      <td>Meeting on the results of implementing Preside...</td>\n",
       "      <td>Good afternoon, colleagues.\\n\\nLet’s start.\\n\\...</td>\n",
       "      <td>President</td>\n",
       "      <td>Vladimir Putin</td>\n",
       "      <td>http://en.kremlin.ru/events/president/transcri...</td>\n",
       "      <td>NEUTRAL</td>\n",
       "      <td>DEVELOPMENT</td>\n",
       "    </tr>\n",
       "    <tr>\n",
       "      <th>3</th>\n",
       "      <td>Russia</td>\n",
       "      <td>21-11-2020</td>\n",
       "      <td>Vladimir Putin</td>\n",
       "      <td>G20 Summit</td>\n",
       "      <td>Colleagues,\\n\\nThe scope of problems humanity ...</td>\n",
       "      <td>President</td>\n",
       "      <td>Vladimir Putin</td>\n",
       "      <td>http://en.kremlin.ru/events/president/transcri...</td>\n",
       "      <td>NEUTRAL</td>\n",
       "      <td>DEVELOPMENT</td>\n",
       "    </tr>\n",
       "    <tr>\n",
       "      <th>4</th>\n",
       "      <td>Russia</td>\n",
       "      <td>20-11-2020</td>\n",
       "      <td>Vladimir Putin</td>\n",
       "      <td>Address to participants in Nuremberg Lessons f...</td>\n",
       "      <td>Colleagues, friends,\\n\\nFirst of all, I would ...</td>\n",
       "      <td>President</td>\n",
       "      <td>Vladimir Putin</td>\n",
       "      <td>http://en.kremlin.ru/events/president/transcri...</td>\n",
       "      <td>UPSET</td>\n",
       "      <td>EXTREMISM</td>\n",
       "    </tr>\n",
       "    <tr>\n",
       "      <th>...</th>\n",
       "      <td>...</td>\n",
       "      <td>...</td>\n",
       "      <td>...</td>\n",
       "      <td>...</td>\n",
       "      <td>...</td>\n",
       "      <td>...</td>\n",
       "      <td>...</td>\n",
       "      <td>...</td>\n",
       "      <td>...</td>\n",
       "      <td>...</td>\n",
       "    </tr>\n",
       "    <tr>\n",
       "      <th>2005</th>\n",
       "      <td>USA</td>\n",
       "      <td>05/02/2013</td>\n",
       "      <td>Barack Obama</td>\n",
       "      <td>\\nRemarks by the President</td>\n",
       "      <td>Good afternoon, everybody. \\n\\nI wanted to sa...</td>\n",
       "      <td>President</td>\n",
       "      <td>Barack Obama</td>\n",
       "      <td>https://obamawhitehouse.archives.gov/the-press...</td>\n",
       "      <td>NEUTRAL</td>\n",
       "      <td>DEVELOPMENT</td>\n",
       "    </tr>\n",
       "    <tr>\n",
       "      <th>2006</th>\n",
       "      <td>USA</td>\n",
       "      <td>04/02/2013</td>\n",
       "      <td>Barack Obama</td>\n",
       "      <td>\\nRemarks by the President on Preventing Gun V...</td>\n",
       "      <td>Hello, everybody.  Please have a seat.  Have a...</td>\n",
       "      <td>President</td>\n",
       "      <td>Barack Obama</td>\n",
       "      <td>https://obamawhitehouse.archives.gov/the-press...</td>\n",
       "      <td>NEUTRAL</td>\n",
       "      <td>OTHERS</td>\n",
       "    </tr>\n",
       "    <tr>\n",
       "      <th>2007</th>\n",
       "      <td>USA</td>\n",
       "      <td>02/02/2013</td>\n",
       "      <td>Barack Obama</td>\n",
       "      <td>\\nWeekly Address: A Balanced Approach to Growi...</td>\n",
       "      <td>Hi, everybody. \\n\\nIn the coming weeks, we fa...</td>\n",
       "      <td>President</td>\n",
       "      <td>Barack Obama</td>\n",
       "      <td>https://obamawhitehouse.archives.gov/the-press...</td>\n",
       "      <td>OPTIMISM</td>\n",
       "      <td>DEVELOPMENT</td>\n",
       "    </tr>\n",
       "    <tr>\n",
       "      <th>2008</th>\n",
       "      <td>USA</td>\n",
       "      <td>28/01/2013</td>\n",
       "      <td>Barack Obama</td>\n",
       "      <td>\\nRemarks by the President Before Meeting with...</td>\n",
       "      <td>Well, Vice President Biden and I just want to...</td>\n",
       "      <td>President</td>\n",
       "      <td>Barack Obama</td>\n",
       "      <td>https://obamawhitehouse.archives.gov/the-press...</td>\n",
       "      <td>OPTIMISM</td>\n",
       "      <td>OTHERS</td>\n",
       "    </tr>\n",
       "    <tr>\n",
       "      <th>2009</th>\n",
       "      <td>USA</td>\n",
       "      <td>21/01/2013</td>\n",
       "      <td>Barack Obama</td>\n",
       "      <td>\\nInaugural Address by President Barack Obama</td>\n",
       "      <td>Vice President Biden, Mr. Chief Justice,\\nmemb...</td>\n",
       "      <td>President</td>\n",
       "      <td>Barack Obama</td>\n",
       "      <td>https://obamawhitehouse.archives.gov/the-press...</td>\n",
       "      <td>JOY</td>\n",
       "      <td>OTHERS</td>\n",
       "    </tr>\n",
       "  </tbody>\n",
       "</table>\n",
       "<p>2010 rows × 10 columns</p>\n",
       "</div>"
      ],
      "text/plain": [
       "     Country                 Date         Speaker  \\\n",
       "0     Russia           16/07/2021  Vladimir Putin   \n",
       "1     Russia  2021-09-05 00:00:00  Vladimir Putin   \n",
       "2     Russia  2021-08-04 00:00:00  Vladimir Putin   \n",
       "3     Russia           21-11-2020  Vladimir Putin   \n",
       "4     Russia           20-11-2020  Vladimir Putin   \n",
       "...      ...                  ...             ...   \n",
       "2005     USA           05/02/2013    Barack Obama   \n",
       "2006     USA           04/02/2013    Barack Obama   \n",
       "2007     USA           02/02/2013    Barack Obama   \n",
       "2008     USA           28/01/2013    Barack Obama   \n",
       "2009     USA           21/01/2013    Barack Obama   \n",
       "\n",
       "                                               Headline  \\\n",
       "0                      Meeting of APEC Economic Leaders   \n",
       "1                          Victory Parade on Red Square   \n",
       "2     Meeting on the results of implementing Preside...   \n",
       "3                                            G20 Summit   \n",
       "4     Address to participants in Nuremberg Lessons f...   \n",
       "...                                                 ...   \n",
       "2005                         \\nRemarks by the President   \n",
       "2006  \\nRemarks by the President on Preventing Gun V...   \n",
       "2007  \\nWeekly Address: A Balanced Approach to Growi...   \n",
       "2008  \\nRemarks by the President Before Meeting with...   \n",
       "2009      \\nInaugural Address by President Barack Obama   \n",
       "\n",
       "                                         Text_of_Speech Designation  \\\n",
       "0      Madam Chair,\\n\\nColleagues,\\n\\nFirst of all, ...   President   \n",
       "1     Citizens of Russia,\\n\\nDear veterans,\\n\\nComra...   President   \n",
       "2     Good afternoon, colleagues.\\n\\nLet’s start.\\n\\...   President   \n",
       "3     Colleagues,\\n\\nThe scope of problems humanity ...   President   \n",
       "4     Colleagues, friends,\\n\\nFirst of all, I would ...   President   \n",
       "...                                                 ...         ...   \n",
       "2005   Good afternoon, everybody. \\n\\nI wanted to sa...   President   \n",
       "2006  Hello, everybody.  Please have a seat.  Have a...   President   \n",
       "2007   Hi, everybody. \\n\\nIn the coming weeks, we fa...   President   \n",
       "2008   Well, Vice President Biden and I just want to...   President   \n",
       "2009  Vice President Biden, Mr. Chief Justice,\\nmemb...   President   \n",
       "\n",
       "     Running President/PM                                        Speech Link  \\\n",
       "0          Vladimir Putin  http://en.kremlin.ru/events/president/transcri...   \n",
       "1          Vladimir Putin  http://en.kremlin.ru/events/president/transcri...   \n",
       "2          Vladimir Putin  http://en.kremlin.ru/events/president/transcri...   \n",
       "3          Vladimir Putin  http://en.kremlin.ru/events/president/transcri...   \n",
       "4          Vladimir Putin  http://en.kremlin.ru/events/president/transcri...   \n",
       "...                   ...                                                ...   \n",
       "2005         Barack Obama  https://obamawhitehouse.archives.gov/the-press...   \n",
       "2006         Barack Obama  https://obamawhitehouse.archives.gov/the-press...   \n",
       "2007         Barack Obama  https://obamawhitehouse.archives.gov/the-press...   \n",
       "2008         Barack Obama  https://obamawhitehouse.archives.gov/the-press...   \n",
       "2009         Barack Obama  https://obamawhitehouse.archives.gov/the-press...   \n",
       "\n",
       "       Emotion      Context  \n",
       "0     OPTIMISM  DEVELOPMENT  \n",
       "1          JOY  NATIONALISM  \n",
       "2      NEUTRAL  DEVELOPMENT  \n",
       "3      NEUTRAL  DEVELOPMENT  \n",
       "4        UPSET    EXTREMISM  \n",
       "...        ...          ...  \n",
       "2005   NEUTRAL  DEVELOPMENT  \n",
       "2006   NEUTRAL       OTHERS  \n",
       "2007  OPTIMISM  DEVELOPMENT  \n",
       "2008  OPTIMISM       OTHERS  \n",
       "2009       JOY       OTHERS  \n",
       "\n",
       "[2010 rows x 10 columns]"
      ]
     },
     "execution_count": 3,
     "metadata": {},
     "output_type": "execute_result"
    }
   ],
   "source": [
    "data"
   ]
  },
  {
   "cell_type": "code",
   "execution_count": 4,
   "id": "08203b40",
   "metadata": {},
   "outputs": [],
   "source": [
    "data = data[['Text_of_Speech', 'Emotion']]"
   ]
  },
  {
   "cell_type": "code",
   "execution_count": 5,
   "id": "dab597f0",
   "metadata": {},
   "outputs": [
    {
     "data": {
      "text/html": [
       "<div>\n",
       "<style scoped>\n",
       "    .dataframe tbody tr th:only-of-type {\n",
       "        vertical-align: middle;\n",
       "    }\n",
       "\n",
       "    .dataframe tbody tr th {\n",
       "        vertical-align: top;\n",
       "    }\n",
       "\n",
       "    .dataframe thead th {\n",
       "        text-align: right;\n",
       "    }\n",
       "</style>\n",
       "<table border=\"1\" class=\"dataframe\">\n",
       "  <thead>\n",
       "    <tr style=\"text-align: right;\">\n",
       "      <th></th>\n",
       "      <th>Text_of_Speech</th>\n",
       "      <th>Emotion</th>\n",
       "    </tr>\n",
       "  </thead>\n",
       "  <tbody>\n",
       "    <tr>\n",
       "      <th>0</th>\n",
       "      <td>Madam Chair,\\n\\nColleagues,\\n\\nFirst of all, ...</td>\n",
       "      <td>OPTIMISM</td>\n",
       "    </tr>\n",
       "    <tr>\n",
       "      <th>1</th>\n",
       "      <td>Citizens of Russia,\\n\\nDear veterans,\\n\\nComra...</td>\n",
       "      <td>JOY</td>\n",
       "    </tr>\n",
       "    <tr>\n",
       "      <th>2</th>\n",
       "      <td>Good afternoon, colleagues.\\n\\nLet’s start.\\n\\...</td>\n",
       "      <td>NEUTRAL</td>\n",
       "    </tr>\n",
       "    <tr>\n",
       "      <th>3</th>\n",
       "      <td>Colleagues,\\n\\nThe scope of problems humanity ...</td>\n",
       "      <td>NEUTRAL</td>\n",
       "    </tr>\n",
       "    <tr>\n",
       "      <th>4</th>\n",
       "      <td>Colleagues, friends,\\n\\nFirst of all, I would ...</td>\n",
       "      <td>UPSET</td>\n",
       "    </tr>\n",
       "    <tr>\n",
       "      <th>...</th>\n",
       "      <td>...</td>\n",
       "      <td>...</td>\n",
       "    </tr>\n",
       "    <tr>\n",
       "      <th>2005</th>\n",
       "      <td>Good afternoon, everybody. \\n\\nI wanted to sa...</td>\n",
       "      <td>NEUTRAL</td>\n",
       "    </tr>\n",
       "    <tr>\n",
       "      <th>2006</th>\n",
       "      <td>Hello, everybody.  Please have a seat.  Have a...</td>\n",
       "      <td>NEUTRAL</td>\n",
       "    </tr>\n",
       "    <tr>\n",
       "      <th>2007</th>\n",
       "      <td>Hi, everybody. \\n\\nIn the coming weeks, we fa...</td>\n",
       "      <td>OPTIMISM</td>\n",
       "    </tr>\n",
       "    <tr>\n",
       "      <th>2008</th>\n",
       "      <td>Well, Vice President Biden and I just want to...</td>\n",
       "      <td>OPTIMISM</td>\n",
       "    </tr>\n",
       "    <tr>\n",
       "      <th>2009</th>\n",
       "      <td>Vice President Biden, Mr. Chief Justice,\\nmemb...</td>\n",
       "      <td>JOY</td>\n",
       "    </tr>\n",
       "  </tbody>\n",
       "</table>\n",
       "<p>2010 rows × 2 columns</p>\n",
       "</div>"
      ],
      "text/plain": [
       "                                         Text_of_Speech   Emotion\n",
       "0      Madam Chair,\\n\\nColleagues,\\n\\nFirst of all, ...  OPTIMISM\n",
       "1     Citizens of Russia,\\n\\nDear veterans,\\n\\nComra...       JOY\n",
       "2     Good afternoon, colleagues.\\n\\nLet’s start.\\n\\...   NEUTRAL\n",
       "3     Colleagues,\\n\\nThe scope of problems humanity ...   NEUTRAL\n",
       "4     Colleagues, friends,\\n\\nFirst of all, I would ...     UPSET\n",
       "...                                                 ...       ...\n",
       "2005   Good afternoon, everybody. \\n\\nI wanted to sa...   NEUTRAL\n",
       "2006  Hello, everybody.  Please have a seat.  Have a...   NEUTRAL\n",
       "2007   Hi, everybody. \\n\\nIn the coming weeks, we fa...  OPTIMISM\n",
       "2008   Well, Vice President Biden and I just want to...  OPTIMISM\n",
       "2009  Vice President Biden, Mr. Chief Justice,\\nmemb...       JOY\n",
       "\n",
       "[2010 rows x 2 columns]"
      ]
     },
     "execution_count": 5,
     "metadata": {},
     "output_type": "execute_result"
    }
   ],
   "source": [
    "data"
   ]
  },
  {
   "cell_type": "code",
   "execution_count": 6,
   "id": "0cda127e",
   "metadata": {},
   "outputs": [
    {
     "data": {
      "text/plain": [
       "Text_of_Speech    0\n",
       "Emotion           0\n",
       "dtype: int64"
      ]
     },
     "execution_count": 6,
     "metadata": {},
     "output_type": "execute_result"
    }
   ],
   "source": [
    "data.isnull().sum()"
   ]
  },
  {
   "cell_type": "code",
   "execution_count": 7,
   "id": "ddabd4bc",
   "metadata": {
    "scrolled": true
   },
   "outputs": [
    {
     "name": "stderr",
     "output_type": "stream",
     "text": [
      "C:\\Users\\chara\\AppData\\Local\\Temp\\ipykernel_10300\\1329548774.py:2: SettingWithCopyWarning: \n",
      "A value is trying to be set on a copy of a slice from a DataFrame\n",
      "\n",
      "See the caveats in the documentation: https://pandas.pydata.org/pandas-docs/stable/user_guide/indexing.html#returning-a-view-versus-a-copy\n",
      "  data.dropna(inplace=True)\n",
      "C:\\Users\\chara\\AppData\\Local\\Temp\\ipykernel_10300\\1329548774.py:3: SettingWithCopyWarning: \n",
      "A value is trying to be set on a copy of a slice from a DataFrame\n",
      "\n",
      "See the caveats in the documentation: https://pandas.pydata.org/pandas-docs/stable/user_guide/indexing.html#returning-a-view-versus-a-copy\n",
      "  data.drop_duplicates(inplace=True)\n"
     ]
    }
   ],
   "source": [
    "# Handle missing or duplicate data\n",
    "data.dropna(inplace=True)\n",
    "data.drop_duplicates(inplace=True)"
   ]
  },
  {
   "cell_type": "code",
   "execution_count": 8,
   "id": "f20addc9",
   "metadata": {},
   "outputs": [
    {
     "data": {
      "text/plain": [
       "Text_of_Speech    0\n",
       "Emotion           0\n",
       "dtype: int64"
      ]
     },
     "execution_count": 8,
     "metadata": {},
     "output_type": "execute_result"
    }
   ],
   "source": [
    "data.isnull().sum()"
   ]
  },
  {
   "cell_type": "code",
   "execution_count": 9,
   "id": "882454df",
   "metadata": {},
   "outputs": [
    {
     "data": {
      "text/html": [
       "<div>\n",
       "<style scoped>\n",
       "    .dataframe tbody tr th:only-of-type {\n",
       "        vertical-align: middle;\n",
       "    }\n",
       "\n",
       "    .dataframe tbody tr th {\n",
       "        vertical-align: top;\n",
       "    }\n",
       "\n",
       "    .dataframe thead th {\n",
       "        text-align: right;\n",
       "    }\n",
       "</style>\n",
       "<table border=\"1\" class=\"dataframe\">\n",
       "  <thead>\n",
       "    <tr style=\"text-align: right;\">\n",
       "      <th></th>\n",
       "      <th>Text_of_Speech</th>\n",
       "      <th>Emotion</th>\n",
       "    </tr>\n",
       "  </thead>\n",
       "  <tbody>\n",
       "    <tr>\n",
       "      <th>0</th>\n",
       "      <td>Madam Chair,\\n\\nColleagues,\\n\\nFirst of all, ...</td>\n",
       "      <td>OPTIMISM</td>\n",
       "    </tr>\n",
       "    <tr>\n",
       "      <th>1</th>\n",
       "      <td>Citizens of Russia,\\n\\nDear veterans,\\n\\nComra...</td>\n",
       "      <td>JOY</td>\n",
       "    </tr>\n",
       "    <tr>\n",
       "      <th>2</th>\n",
       "      <td>Good afternoon, colleagues.\\n\\nLet’s start.\\n\\...</td>\n",
       "      <td>NEUTRAL</td>\n",
       "    </tr>\n",
       "    <tr>\n",
       "      <th>3</th>\n",
       "      <td>Colleagues,\\n\\nThe scope of problems humanity ...</td>\n",
       "      <td>NEUTRAL</td>\n",
       "    </tr>\n",
       "    <tr>\n",
       "      <th>4</th>\n",
       "      <td>Colleagues, friends,\\n\\nFirst of all, I would ...</td>\n",
       "      <td>UPSET</td>\n",
       "    </tr>\n",
       "    <tr>\n",
       "      <th>...</th>\n",
       "      <td>...</td>\n",
       "      <td>...</td>\n",
       "    </tr>\n",
       "    <tr>\n",
       "      <th>2005</th>\n",
       "      <td>Good afternoon, everybody. \\n\\nI wanted to sa...</td>\n",
       "      <td>NEUTRAL</td>\n",
       "    </tr>\n",
       "    <tr>\n",
       "      <th>2006</th>\n",
       "      <td>Hello, everybody.  Please have a seat.  Have a...</td>\n",
       "      <td>NEUTRAL</td>\n",
       "    </tr>\n",
       "    <tr>\n",
       "      <th>2007</th>\n",
       "      <td>Hi, everybody. \\n\\nIn the coming weeks, we fa...</td>\n",
       "      <td>OPTIMISM</td>\n",
       "    </tr>\n",
       "    <tr>\n",
       "      <th>2008</th>\n",
       "      <td>Well, Vice President Biden and I just want to...</td>\n",
       "      <td>OPTIMISM</td>\n",
       "    </tr>\n",
       "    <tr>\n",
       "      <th>2009</th>\n",
       "      <td>Vice President Biden, Mr. Chief Justice,\\nmemb...</td>\n",
       "      <td>JOY</td>\n",
       "    </tr>\n",
       "  </tbody>\n",
       "</table>\n",
       "<p>2009 rows × 2 columns</p>\n",
       "</div>"
      ],
      "text/plain": [
       "                                         Text_of_Speech   Emotion\n",
       "0      Madam Chair,\\n\\nColleagues,\\n\\nFirst of all, ...  OPTIMISM\n",
       "1     Citizens of Russia,\\n\\nDear veterans,\\n\\nComra...       JOY\n",
       "2     Good afternoon, colleagues.\\n\\nLet’s start.\\n\\...   NEUTRAL\n",
       "3     Colleagues,\\n\\nThe scope of problems humanity ...   NEUTRAL\n",
       "4     Colleagues, friends,\\n\\nFirst of all, I would ...     UPSET\n",
       "...                                                 ...       ...\n",
       "2005   Good afternoon, everybody. \\n\\nI wanted to sa...   NEUTRAL\n",
       "2006  Hello, everybody.  Please have a seat.  Have a...   NEUTRAL\n",
       "2007   Hi, everybody. \\n\\nIn the coming weeks, we fa...  OPTIMISM\n",
       "2008   Well, Vice President Biden and I just want to...  OPTIMISM\n",
       "2009  Vice President Biden, Mr. Chief Justice,\\nmemb...       JOY\n",
       "\n",
       "[2009 rows x 2 columns]"
      ]
     },
     "execution_count": 9,
     "metadata": {},
     "output_type": "execute_result"
    }
   ],
   "source": [
    "data"
   ]
  },
  {
   "cell_type": "code",
   "execution_count": 10,
   "id": "8f75954f",
   "metadata": {},
   "outputs": [],
   "source": [
    "X = data['Text_of_Speech'].apply(lambda x: x.split()) \n",
    "y = data['Emotion'].apply(lambda x: x.split(','))"
   ]
  },
  {
   "cell_type": "code",
   "execution_count": 11,
   "id": "388f9600",
   "metadata": {},
   "outputs": [
    {
     "data": {
      "text/plain": [
       "0       [Madam, Chair,, Colleagues,, First, of, all,, ...\n",
       "1       [Citizens, of, Russia,, Dear, veterans,, Comra...\n",
       "2       [Good, afternoon,, colleagues., Let’s, start.,...\n",
       "3       [Colleagues,, The, scope, of, problems, humani...\n",
       "4       [Colleagues,, friends,, First, of, all,, I, wo...\n",
       "                              ...                        \n",
       "2005    [Good, afternoon,, everybody., I, wanted, to, ...\n",
       "2006    [Hello,, everybody., Please, have, a, seat., H...\n",
       "2007    [Hi,, everybody., In, the, coming, weeks,, we,...\n",
       "2008    [Well,, Vice, President, Biden, and, I, just, ...\n",
       "2009    [Vice, President, Biden,, Mr., Chief, Justice,...\n",
       "Name: Text_of_Speech, Length: 2009, dtype: object"
      ]
     },
     "execution_count": 11,
     "metadata": {},
     "output_type": "execute_result"
    }
   ],
   "source": [
    "X"
   ]
  },
  {
   "cell_type": "code",
   "execution_count": 12,
   "id": "f79d5771",
   "metadata": {},
   "outputs": [
    {
     "data": {
      "text/plain": [
       "0       [OPTIMISM]\n",
       "1            [JOY]\n",
       "2        [NEUTRAL]\n",
       "3        [NEUTRAL]\n",
       "4          [UPSET]\n",
       "           ...    \n",
       "2005     [NEUTRAL]\n",
       "2006     [NEUTRAL]\n",
       "2007    [OPTIMISM]\n",
       "2008    [OPTIMISM]\n",
       "2009         [JOY]\n",
       "Name: Emotion, Length: 2009, dtype: object"
      ]
     },
     "execution_count": 12,
     "metadata": {},
     "output_type": "execute_result"
    }
   ],
   "source": [
    "y"
   ]
  },
  {
   "cell_type": "code",
   "execution_count": 13,
   "id": "a788bfbb",
   "metadata": {},
   "outputs": [],
   "source": [
    "X_train, X_test, y_train, y_test = train_test_split(X, y, test_size=0.2, random_state=42)"
   ]
  },
  {
   "cell_type": "code",
   "execution_count": 14,
   "id": "bfb121c3",
   "metadata": {},
   "outputs": [
    {
     "data": {
      "text/plain": [
       "1594    [Hello,, everybody., This, past, week,, we, lo...\n",
       "526     [Good, afternoon., The, Southern, District, is...\n",
       "393     [Good, afternoon, respected, colleagues,, We, ...\n",
       "1404    [THE, PRESIDENT:, My, fellow, Americans:, Toni...\n",
       "433     [Esteemed, members, of, the, Board,, Comrade, ...\n",
       "                              ...                        \n",
       "941     [When, I, stood, in, Downing, Street, as, Prim...\n",
       "733     [Mr., President, and, Mrs., Obama,, Ladies, an...\n",
       "1576    [I, just, had, a, wonderful, conversation, wit...\n",
       "692     [Excellencies,, Distinguished, Guests,, Good, ...\n",
       "1256    [THE, PRESIDENT:, Thank, you, very, much,, Jul...\n",
       "Name: Text_of_Speech, Length: 402, dtype: object"
      ]
     },
     "execution_count": 14,
     "metadata": {},
     "output_type": "execute_result"
    }
   ],
   "source": [
    "X_test"
   ]
  },
  {
   "cell_type": "code",
   "execution_count": 15,
   "id": "a7437d2d",
   "metadata": {},
   "outputs": [
    {
     "data": {
      "text/plain": [
       "1594     [NEUTRAL]\n",
       "526        [UPSET]\n",
       "393      [NEUTRAL]\n",
       "1404       [UPSET]\n",
       "433      [NEUTRAL]\n",
       "           ...    \n",
       "941      [NEUTRAL]\n",
       "733     [OPTIMISM]\n",
       "1576    [OPTIMISM]\n",
       "692      [NEUTRAL]\n",
       "1256    [OPTIMISM]\n",
       "Name: Emotion, Length: 402, dtype: object"
      ]
     },
     "execution_count": 15,
     "metadata": {},
     "output_type": "execute_result"
    }
   ],
   "source": [
    "y_test"
   ]
  },
  {
   "cell_type": "markdown",
   "id": "91ec999d",
   "metadata": {},
   "source": [
    "### Word Embedding Technique: WORD2VEC"
   ]
  },
  {
   "cell_type": "code",
   "execution_count": 16,
   "id": "18e1eb9e",
   "metadata": {},
   "outputs": [],
   "source": [
    "# Train Word2Vec model\n",
    "embedding_model = Word2Vec(sentences=X_train, vector_size=100, window=5, min_count=1, workers=4)"
   ]
  },
  {
   "cell_type": "code",
   "execution_count": 17,
   "id": "3a9eda36",
   "metadata": {},
   "outputs": [],
   "source": [
    "# Generate word embeddings for the text data\n",
    "X_train_embeddings = np.array([np.mean([embedding_model.wv[word] for word in words if word in embedding_model.wv], axis=0) for words in X_train])\n",
    "X_test_embeddings = np.array([np.mean([embedding_model.wv[word] for word in words if word in embedding_model.wv], axis=0) for words in X_test])"
   ]
  },
  {
   "cell_type": "code",
   "execution_count": 18,
   "id": "b627c35d",
   "metadata": {},
   "outputs": [
    {
     "data": {
      "text/plain": [
       "array([[-0.5766086 , -0.22433317,  0.2907299 , ..., -0.20981255,\n",
       "         0.39520153,  0.14648587],\n",
       "       [-0.66872126,  0.09184001,  0.5833525 , ...,  0.1675789 ,\n",
       "         0.21608777,  0.3133535 ],\n",
       "       [-0.95901495,  0.23587811,  0.45198905, ...,  0.15333517,\n",
       "         0.24818788,  0.08313505],\n",
       "       ...,\n",
       "       [-0.67046136, -0.08968383,  0.37571955, ...,  0.04302053,\n",
       "         0.24313715,  0.13679695],\n",
       "       [-0.6435419 , -0.08907568,  0.47549444, ..., -0.01581487,\n",
       "         0.66008633,  0.24055694],\n",
       "       [-0.5392378 , -0.09541202,  0.27990514, ..., -0.03263106,\n",
       "         0.2800381 ,  0.22827052]], dtype=float32)"
      ]
     },
     "execution_count": 18,
     "metadata": {},
     "output_type": "execute_result"
    }
   ],
   "source": [
    "X_train_embeddings"
   ]
  },
  {
   "cell_type": "code",
   "execution_count": 19,
   "id": "86d61582",
   "metadata": {},
   "outputs": [],
   "source": [
    "# Transform multi-labels into binary format\n",
    "mlb = MultiLabelBinarizer()\n",
    "y_train_encoded = mlb.fit_transform(y_train)\n",
    "y_test_encoded = mlb.transform(y_test)"
   ]
  },
  {
   "cell_type": "code",
   "execution_count": 20,
   "id": "e6e290e9",
   "metadata": {},
   "outputs": [
    {
     "data": {
      "text/plain": [
       "array([[0, 1, 0, 0],\n",
       "       [0, 1, 0, 0],\n",
       "       [0, 1, 0, 0],\n",
       "       ...,\n",
       "       [0, 0, 1, 0],\n",
       "       [1, 0, 0, 0],\n",
       "       [0, 0, 0, 1]])"
      ]
     },
     "execution_count": 20,
     "metadata": {},
     "output_type": "execute_result"
    }
   ],
   "source": [
    "y_train_encoded"
   ]
  },
  {
   "cell_type": "code",
   "execution_count": 21,
   "id": "3c0df8c0",
   "metadata": {},
   "outputs": [
    {
     "data": {
      "text/html": [
       "<style>#sk-container-id-1 {color: black;background-color: white;}#sk-container-id-1 pre{padding: 0;}#sk-container-id-1 div.sk-toggleable {background-color: white;}#sk-container-id-1 label.sk-toggleable__label {cursor: pointer;display: block;width: 100%;margin-bottom: 0;padding: 0.3em;box-sizing: border-box;text-align: center;}#sk-container-id-1 label.sk-toggleable__label-arrow:before {content: \"▸\";float: left;margin-right: 0.25em;color: #696969;}#sk-container-id-1 label.sk-toggleable__label-arrow:hover:before {color: black;}#sk-container-id-1 div.sk-estimator:hover label.sk-toggleable__label-arrow:before {color: black;}#sk-container-id-1 div.sk-toggleable__content {max-height: 0;max-width: 0;overflow: hidden;text-align: left;background-color: #f0f8ff;}#sk-container-id-1 div.sk-toggleable__content pre {margin: 0.2em;color: black;border-radius: 0.25em;background-color: #f0f8ff;}#sk-container-id-1 input.sk-toggleable__control:checked~div.sk-toggleable__content {max-height: 200px;max-width: 100%;overflow: auto;}#sk-container-id-1 input.sk-toggleable__control:checked~label.sk-toggleable__label-arrow:before {content: \"▾\";}#sk-container-id-1 div.sk-estimator input.sk-toggleable__control:checked~label.sk-toggleable__label {background-color: #d4ebff;}#sk-container-id-1 div.sk-label input.sk-toggleable__control:checked~label.sk-toggleable__label {background-color: #d4ebff;}#sk-container-id-1 input.sk-hidden--visually {border: 0;clip: rect(1px 1px 1px 1px);clip: rect(1px, 1px, 1px, 1px);height: 1px;margin: -1px;overflow: hidden;padding: 0;position: absolute;width: 1px;}#sk-container-id-1 div.sk-estimator {font-family: monospace;background-color: #f0f8ff;border: 1px dotted black;border-radius: 0.25em;box-sizing: border-box;margin-bottom: 0.5em;}#sk-container-id-1 div.sk-estimator:hover {background-color: #d4ebff;}#sk-container-id-1 div.sk-parallel-item::after {content: \"\";width: 100%;border-bottom: 1px solid gray;flex-grow: 1;}#sk-container-id-1 div.sk-label:hover label.sk-toggleable__label {background-color: #d4ebff;}#sk-container-id-1 div.sk-serial::before {content: \"\";position: absolute;border-left: 1px solid gray;box-sizing: border-box;top: 0;bottom: 0;left: 50%;z-index: 0;}#sk-container-id-1 div.sk-serial {display: flex;flex-direction: column;align-items: center;background-color: white;padding-right: 0.2em;padding-left: 0.2em;position: relative;}#sk-container-id-1 div.sk-item {position: relative;z-index: 1;}#sk-container-id-1 div.sk-parallel {display: flex;align-items: stretch;justify-content: center;background-color: white;position: relative;}#sk-container-id-1 div.sk-item::before, #sk-container-id-1 div.sk-parallel-item::before {content: \"\";position: absolute;border-left: 1px solid gray;box-sizing: border-box;top: 0;bottom: 0;left: 50%;z-index: -1;}#sk-container-id-1 div.sk-parallel-item {display: flex;flex-direction: column;z-index: 1;position: relative;background-color: white;}#sk-container-id-1 div.sk-parallel-item:first-child::after {align-self: flex-end;width: 50%;}#sk-container-id-1 div.sk-parallel-item:last-child::after {align-self: flex-start;width: 50%;}#sk-container-id-1 div.sk-parallel-item:only-child::after {width: 0;}#sk-container-id-1 div.sk-dashed-wrapped {border: 1px dashed gray;margin: 0 0.4em 0.5em 0.4em;box-sizing: border-box;padding-bottom: 0.4em;background-color: white;}#sk-container-id-1 div.sk-label label {font-family: monospace;font-weight: bold;display: inline-block;line-height: 1.2em;}#sk-container-id-1 div.sk-label-container {text-align: center;}#sk-container-id-1 div.sk-container {/* jupyter's `normalize.less` sets `[hidden] { display: none; }` but bootstrap.min.css set `[hidden] { display: none !important; }` so we also need the `!important` here to be able to override the default hidden behavior on the sphinx rendered scikit-learn.org. See: https://github.com/scikit-learn/scikit-learn/issues/21755 */display: inline-block !important;position: relative;}#sk-container-id-1 div.sk-text-repr-fallback {display: none;}</style><div id=\"sk-container-id-1\" class=\"sk-top-container\"><div class=\"sk-text-repr-fallback\"><pre>MultiOutputClassifier(estimator=RandomForestClassifier(random_state=42))</pre><b>In a Jupyter environment, please rerun this cell to show the HTML representation or trust the notebook. <br />On GitHub, the HTML representation is unable to render, please try loading this page with nbviewer.org.</b></div><div class=\"sk-container\" hidden><div class=\"sk-item sk-dashed-wrapped\"><div class=\"sk-label-container\"><div class=\"sk-label sk-toggleable\"><input class=\"sk-toggleable__control sk-hidden--visually\" id=\"sk-estimator-id-1\" type=\"checkbox\" ><label for=\"sk-estimator-id-1\" class=\"sk-toggleable__label sk-toggleable__label-arrow\">MultiOutputClassifier</label><div class=\"sk-toggleable__content\"><pre>MultiOutputClassifier(estimator=RandomForestClassifier(random_state=42))</pre></div></div></div><div class=\"sk-parallel\"><div class=\"sk-parallel-item\"><div class=\"sk-item\"><div class=\"sk-label-container\"><div class=\"sk-label sk-toggleable\"><input class=\"sk-toggleable__control sk-hidden--visually\" id=\"sk-estimator-id-2\" type=\"checkbox\" ><label for=\"sk-estimator-id-2\" class=\"sk-toggleable__label sk-toggleable__label-arrow\">estimator: RandomForestClassifier</label><div class=\"sk-toggleable__content\"><pre>RandomForestClassifier(random_state=42)</pre></div></div></div><div class=\"sk-serial\"><div class=\"sk-item\"><div class=\"sk-estimator sk-toggleable\"><input class=\"sk-toggleable__control sk-hidden--visually\" id=\"sk-estimator-id-3\" type=\"checkbox\" ><label for=\"sk-estimator-id-3\" class=\"sk-toggleable__label sk-toggleable__label-arrow\">RandomForestClassifier</label><div class=\"sk-toggleable__content\"><pre>RandomForestClassifier(random_state=42)</pre></div></div></div></div></div></div></div></div></div></div>"
      ],
      "text/plain": [
       "MultiOutputClassifier(estimator=RandomForestClassifier(random_state=42))"
      ]
     },
     "execution_count": 21,
     "metadata": {},
     "output_type": "execute_result"
    }
   ],
   "source": [
    "# Train a multi-label classification model (e.g., RandomForestClassifier)\n",
    "classifier = MultiOutputClassifier(RandomForestClassifier(n_estimators=100, random_state=42))\n",
    "classifier.fit(X_train_embeddings, y_train_encoded)"
   ]
  },
  {
   "cell_type": "code",
   "execution_count": 22,
   "id": "02a03a05",
   "metadata": {},
   "outputs": [],
   "source": [
    "# Predict emotions for the test set\n",
    "y_pred = classifier.predict(X_test_embeddings)"
   ]
  },
  {
   "cell_type": "code",
   "execution_count": 23,
   "id": "fc7f79cf",
   "metadata": {},
   "outputs": [],
   "source": [
    "# Evaluate the model\n",
    "f1_micro = f1_score(y_test_encoded, y_pred, average='micro')\n",
    "f1_macro = f1_score(y_test_encoded, y_pred, average='macro')"
   ]
  },
  {
   "cell_type": "code",
   "execution_count": 24,
   "id": "628bfa56",
   "metadata": {},
   "outputs": [
    {
     "name": "stdout",
     "output_type": "stream",
     "text": [
      "F1 Score (Micro): 0.29197080291970806\n",
      "F1 Score (Macro): 0.28331520725635706\n"
     ]
    }
   ],
   "source": [
    "print(f'F1 Score (Micro): {f1_micro}')\n",
    "print(f'F1 Score (Macro): {f1_macro}')"
   ]
  },
  {
   "cell_type": "markdown",
   "id": "56710cf2",
   "metadata": {},
   "source": [
    "#### LSTM"
   ]
  },
  {
   "cell_type": "code",
   "execution_count": 27,
   "id": "c9652e23",
   "metadata": {},
   "outputs": [
    {
     "name": "stdout",
     "output_type": "stream",
     "text": [
      "WARNING:tensorflow:From C:\\Users\\chara\\AppData\\Local\\Programs\\Python\\Python310\\lib\\site-packages\\keras\\src\\losses.py:2976: The name tf.losses.sparse_softmax_cross_entropy is deprecated. Please use tf.compat.v1.losses.sparse_softmax_cross_entropy instead.\n",
      "\n"
     ]
    }
   ],
   "source": [
    "from keras.preprocessing.text import Tokenizer\n",
    "from keras.preprocessing.sequence import pad_sequences\n",
    "from keras.models import Sequential\n",
    "from keras.layers import Embedding, LSTM, Dense"
   ]
  },
  {
   "cell_type": "code",
   "execution_count": null,
   "id": "1b211607",
   "metadata": {
    "scrolled": true
   },
   "outputs": [
    {
     "name": "stdout",
     "output_type": "stream",
     "text": [
      "WARNING:tensorflow:From C:\\Users\\chara\\AppData\\Local\\Programs\\Python\\Python310\\lib\\site-packages\\keras\\src\\backend.py:873: The name tf.get_default_graph is deprecated. Please use tf.compat.v1.get_default_graph instead.\n",
      "\n",
      "WARNING:tensorflow:From C:\\Users\\chara\\AppData\\Local\\Programs\\Python\\Python310\\lib\\site-packages\\keras\\src\\optimizers\\__init__.py:309: The name tf.train.Optimizer is deprecated. Please use tf.compat.v1.train.Optimizer instead.\n",
      "\n",
      "Epoch 1/10\n",
      "WARNING:tensorflow:From C:\\Users\\chara\\AppData\\Local\\Programs\\Python\\Python310\\lib\\site-packages\\keras\\src\\utils\\tf_utils.py:492: The name tf.ragged.RaggedTensorValue is deprecated. Please use tf.compat.v1.ragged.RaggedTensorValue instead.\n",
      "\n",
      "WARNING:tensorflow:From C:\\Users\\chara\\AppData\\Local\\Programs\\Python\\Python310\\lib\\site-packages\\keras\\src\\engine\\base_layer_utils.py:384: The name tf.executing_eagerly_outside_functions is deprecated. Please use tf.compat.v1.executing_eagerly_outside_functions instead.\n",
      "\n"
     ]
    }
   ],
   "source": [
    "# Tokenize and pad sequences\n",
    "tokenizer = Tokenizer()\n",
    "tokenizer.fit_on_texts(X_train)\n",
    "X_train_seq = tokenizer.texts_to_sequences(X_train)\n",
    "X_test_seq = tokenizer.texts_to_sequences(X_test)\n",
    "\n",
    "max_sequence_length = max([len(seq) for seq in X_train_seq])\n",
    "X_train_padded = pad_sequences(X_train_seq, maxlen=max_sequence_length)\n",
    "X_test_padded = pad_sequences(X_test_seq, maxlen=max_sequence_length)\n",
    "\n",
    "# Transform multi-labels into binary format\n",
    "mlb = MultiLabelBinarizer()\n",
    "y_train_encoded = mlb.fit_transform(y_train)\n",
    "y_test_encoded = mlb.transform(y_test)\n",
    "\n",
    "# Build LSTM model\n",
    "model = Sequential()\n",
    "model.add(Embedding(input_dim=len(tokenizer.word_index) + 1, output_dim=100, input_length=max_sequence_length))\n",
    "model.add(LSTM(128, dropout=0.2, recurrent_dropout=0.2))\n",
    "model.add(Dense(len(mlb.classes_), activation='sigmoid'))\n",
    "\n",
    "model.compile(loss='binary_crossentropy', optimizer='adam', metrics=['accuracy'])\n",
    "\n",
    "# Train the LSTM model\n",
    "model.fit(X_train_padded, y_train_encoded, epochs=10, batch_size=64, validation_split=0.2)\n",
    "\n",
    "# Evaluate the model\n",
    "loss, accuracy = model.evaluate(X_test_padded, y_test_encoded)\n",
    "print(f'Loss: {loss}')\n",
    "print(f'Accuracy: {accuracy}')"
   ]
  },
  {
   "cell_type": "code",
   "execution_count": null,
   "id": "c19f2446",
   "metadata": {},
   "outputs": [],
   "source": []
  }
 ],
 "metadata": {
  "kernelspec": {
   "display_name": "Python 3 (ipykernel)",
   "language": "python",
   "name": "python3"
  },
  "language_info": {
   "codemirror_mode": {
    "name": "ipython",
    "version": 3
   },
   "file_extension": ".py",
   "mimetype": "text/x-python",
   "name": "python",
   "nbconvert_exporter": "python",
   "pygments_lexer": "ipython3",
   "version": "3.10.9"
  }
 },
 "nbformat": 4,
 "nbformat_minor": 5
}
